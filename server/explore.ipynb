{
 "cells": [
  {
   "cell_type": "markdown",
   "metadata": {},
   "source": [
    "## Scraper"
   ]
  },
  {
   "cell_type": "markdown",
   "metadata": {},
   "source": [
    "Import modules"
   ]
  },
  {
   "cell_type": "code",
   "execution_count": 1,
   "metadata": {},
   "outputs": [],
   "source": [
    "from bs4 import BeautifulSoup\n",
    "from urllib.request import urlopen\n",
    "\n",
    "import datetime\n",
    "import sched, time"
   ]
  },
  {
   "cell_type": "code",
   "execution_count": 96,
   "metadata": {},
   "outputs": [
    {
     "data": {
      "text/plain": [
       "20"
      ]
     },
     "execution_count": 96,
     "metadata": {},
     "output_type": "execute_result"
    }
   ],
   "source": [
    "datetime.datetime.now().hour"
   ]
  },
  {
   "cell_type": "markdown",
   "metadata": {},
   "source": [
    "Define the url to be scraped and load it"
   ]
  },
  {
   "cell_type": "code",
   "execution_count": 97,
   "metadata": {},
   "outputs": [],
   "source": [
    "url='https://www.bilibili.com/'\n",
    "html = urlopen(url).read().decode('utf-8')"
   ]
  },
  {
   "cell_type": "markdown",
   "metadata": {},
   "source": [
    "Define a list of all sections on front page"
   ]
  },
  {
   "cell_type": "code",
   "execution_count": 98,
   "metadata": {},
   "outputs": [],
   "source": [
    "secs = {'home-top':'groom-module home-card', 'home-pop':'home_popularize', 'live':'card-live-module'}"
   ]
  },
  {
   "cell_type": "markdown",
   "metadata": {},
   "source": [
    "Load source to Soup"
   ]
  },
  {
   "cell_type": "code",
   "execution_count": 99,
   "metadata": {},
   "outputs": [],
   "source": [
    "soup = BeautifulSoup(html, features='lxml')"
   ]
  },
  {
   "cell_type": "code",
   "execution_count": 100,
   "metadata": {},
   "outputs": [],
   "source": [
    "# print(soup)"
   ]
  },
  {
   "cell_type": "code",
   "execution_count": 101,
   "metadata": {},
   "outputs": [],
   "source": [
    "groom = soup.find_all('div',{'class': 'groom-module home-card'})"
   ]
  },
  {
   "cell_type": "code",
   "execution_count": 102,
   "metadata": {},
   "outputs": [
    {
     "data": {
      "text/plain": [
       "['22786099',\n",
       " '22791675',\n",
       " '22787517',\n",
       " '22785349',\n",
       " '22783783',\n",
       " '22761663',\n",
       " '22832807',\n",
       " '22812618']"
      ]
     },
     "execution_count": 102,
     "metadata": {},
     "output_type": "execute_result"
    }
   ],
   "source": [
    "[i.a['href'].split('av')[1][:-1] for i in groom]"
   ]
  },
  {
   "cell_type": "code",
   "execution_count": null,
   "metadata": {},
   "outputs": [],
   "source": []
  },
  {
   "cell_type": "markdown",
   "metadata": {},
   "source": [
    "## Write functions"
   ]
  },
  {
   "cell_type": "code",
   "execution_count": 4,
   "metadata": {},
   "outputs": [],
   "source": [
    "baseurl='https://www.bilibili.com/'\n",
    "\n",
    "def groomjob(url):\n",
    "    html = urlopen(url).read().decode('utf-8')\n",
    "\n",
    "    soup = BeautifulSoup(html, features='lxml')\n",
    "    groom = soup.find_all('div',{'class': 'groom-module home-card'})\n",
    "\n",
    "    aid = [i.a['href'].split('av')[1][:-1] for i in groom]\n",
    "    return aid\n",
    "    \n",
    "\n",
    "def recordgroom():\n",
    "    dt = str(datetime.datetime.now() )\n",
    "    with open(\"data.txt\", \"a\") as f:\n",
    "        f.write( dt + ',' )\n",
    "        [f.write(i+',') for i in aid]\n",
    "        f.write('\\n')\n",
    "\n",
    "\n",
    "hourflag = datetime.datetime.now().hour\n",
    "\n",
    "# while True:\n",
    "    \n",
    "#     if datetime.datetime.now().hour > hourflag:\n",
    "    \n",
    "#         print('Job Running')\n",
    "\n",
    "#         recordgroom()\n",
    "\n",
    "#         hourflag = datetime.datetime.now().hour\n",
    "    \n",
    "            \n"
   ]
  },
  {
   "cell_type": "markdown",
   "metadata": {},
   "source": [
    "## Test scheduler"
   ]
  },
  {
   "cell_type": "code",
   "execution_count": 1,
   "metadata": {},
   "outputs": [],
   "source": [
    "import sched, time\n",
    "s = sched.scheduler(time.time, time.sleep)"
   ]
  },
  {
   "cell_type": "code",
   "execution_count": 2,
   "metadata": {},
   "outputs": [
    {
     "name": "stdout",
     "output_type": "stream",
     "text": [
      "From print_time 2018-05-02 19:10:38 default\n",
      "From print_time 2018-05-02 19:10:43 positional\n",
      "From print_time 2018-05-02 19:10:43 keyword\n",
      "From print_time 2018-05-02 19:10:48 default\n",
      "1525309848.8464918\n"
     ]
    }
   ],
   "source": [
    "def print_time(a='default'):\n",
    "    cur_time = time.time()\n",
    "    cur_time = time.strftime('%Y-%m-%d %H:%M:%S', time.localtime(cur_time))\n",
    "    print(\"From print_time\", cur_time, a)\n",
    "\n",
    "def print_some_times():\n",
    "    print_time()\n",
    "    s.enter(10, 1, print_time)\n",
    "    s.enter(5, 2, print_time, argument=('positional',))\n",
    "    s.enter(5, 1, print_time, kwargs={'a': 'keyword'})\n",
    "    s.run()\n",
    "    print(time.time())\n",
    "\n",
    "print_some_times()\n",
    "\n"
   ]
  },
  {
   "cell_type": "code",
   "execution_count": 3,
   "metadata": {},
   "outputs": [
    {
     "data": {
      "text/plain": [
       "True"
      ]
     },
     "execution_count": 3,
     "metadata": {},
     "output_type": "execute_result"
    }
   ],
   "source": [
    "s.empty()"
   ]
  },
  {
   "cell_type": "code",
   "execution_count": 13,
   "metadata": {},
   "outputs": [],
   "source": [
    "dict = {}"
   ]
  },
  {
   "cell_type": "code",
   "execution_count": 78,
   "metadata": {},
   "outputs": [],
   "source": [
    "def cronsched(scheduler, interval, dic, iden, action, actionargs=()):\n",
    "\n",
    "    action(*actionargs)\n",
    "    ev = scheduler.enter(interval, 1, cronsched,\n",
    "                    (scheduler, interval, dic, iden, action, actionargs))\n",
    "    \n",
    "    dic[iden] = ev\n",
    "    \n",
    "def croncancel( scheduler, interval, eve ):\n",
    "    \n",
    "    scheduler.enter( interval, 1, scheduler.cancel, eve )"
   ]
  },
  {
   "cell_type": "code",
   "execution_count": 79,
   "metadata": {},
   "outputs": [
    {
     "name": "stdout",
     "output_type": "stream",
     "text": [
      "From print_time 2018-05-02 19:30:05 default\n"
     ]
    }
   ],
   "source": [
    "cronsched( s, 1, dict, 'new_vid', print_time )"
   ]
  },
  {
   "cell_type": "code",
   "execution_count": 80,
   "metadata": {},
   "outputs": [
    {
     "data": {
      "text/plain": [
       "{'new_vid': Event(time=1525311006.819536, priority=1, action=<function cronsched at 0x112f34048>, argument=(<sched.scheduler object at 0x112e6b390>, 1, {'new_vid': Event(time=1525311006.819536, priority=1, action=<function cronsched at 0x112f34048>, argument=(...), kwargs={})}, 'new_vid', <function print_time at 0x112e6f950>, ()), kwargs={})}"
      ]
     },
     "execution_count": 80,
     "metadata": {},
     "output_type": "execute_result"
    }
   ],
   "source": [
    "dict"
   ]
  },
  {
   "cell_type": "code",
   "execution_count": 81,
   "metadata": {},
   "outputs": [
    {
     "data": {
      "text/plain": [
       "[Event(time=1525311006.819536, priority=1, action=<function cronsched at 0x112f34048>, argument=(<sched.scheduler object at 0x112e6b390>, 1, {'new_vid': Event(time=1525311006.819536, priority=1, action=<function cronsched at 0x112f34048>, argument=(...), kwargs={})}, 'new_vid', <function print_time at 0x112e6f950>, ()), kwargs={})]"
      ]
     },
     "execution_count": 81,
     "metadata": {},
     "output_type": "execute_result"
    }
   ],
   "source": [
    "s.queue"
   ]
  },
  {
   "cell_type": "code",
   "execution_count": 86,
   "metadata": {},
   "outputs": [],
   "source": [
    "croncancel( s, 4, dict['new_vid'] )"
   ]
  },
  {
   "cell_type": "code",
   "execution_count": 87,
   "metadata": {},
   "outputs": [
    {
     "data": {
      "text/plain": [
       "False"
      ]
     },
     "execution_count": 87,
     "metadata": {},
     "output_type": "execute_result"
    }
   ],
   "source": [
    "s.empty()"
   ]
  },
  {
   "cell_type": "code",
   "execution_count": 92,
   "metadata": {},
   "outputs": [
    {
     "data": {
      "text/plain": [
       "[]"
      ]
     },
     "execution_count": 92,
     "metadata": {},
     "output_type": "execute_result"
    }
   ],
   "source": [
    "s.queue"
   ]
  },
  {
   "cell_type": "code",
   "execution_count": 93,
   "metadata": {},
   "outputs": [],
   "source": [
    "s.run()"
   ]
  },
  {
   "cell_type": "code",
   "execution_count": 104,
   "metadata": {},
   "outputs": [
    {
     "ename": "IndexError",
     "evalue": "list index out of range",
     "output_type": "error",
     "traceback": [
      "\u001b[0;31m---------------------------------------------------------------------------\u001b[0m",
      "\u001b[0;31mIndexError\u001b[0m                                Traceback (most recent call last)",
      "\u001b[0;32m<ipython-input-104-88a97f6fe5e6>\u001b[0m in \u001b[0;36m<module>\u001b[0;34m()\u001b[0m\n\u001b[0;32m----> 1\u001b[0;31m \u001b[0ms\u001b[0m\u001b[0;34m.\u001b[0m\u001b[0mcancel\u001b[0m\u001b[0;34m(\u001b[0m\u001b[0ms\u001b[0m\u001b[0;34m.\u001b[0m\u001b[0mqueue\u001b[0m\u001b[0;34m[\u001b[0m\u001b[0;36m0\u001b[0m\u001b[0;34m]\u001b[0m\u001b[0;34m)\u001b[0m\u001b[0;34m\u001b[0m\u001b[0m\n\u001b[0m",
      "\u001b[0;31mIndexError\u001b[0m: list index out of range"
     ]
    }
   ],
   "source": [
    "s.cancel(s.queue[0])"
   ]
  },
  {
   "cell_type": "markdown",
   "metadata": {},
   "source": [
    "## Test Package"
   ]
  },
  {
   "cell_type": "code",
   "execution_count": 13,
   "metadata": {},
   "outputs": [
    {
     "name": "stdout",
     "output_type": "stream",
     "text": [
      "bilidash\n",
      "explore.ipynb\n",
      "record-front-page.py\n",
      "requirements.txt\n",
      "test\n"
     ]
    }
   ],
   "source": [
    "%%bash\n",
    "ls ."
   ]
  },
  {
   "cell_type": "code",
   "execution_count": 35,
   "metadata": {},
   "outputs": [],
   "source": [
    "%%bash\n",
    "# pip install -e .\n",
    "# pip uninstall bilidash"
   ]
  },
  {
   "cell_type": "code",
   "execution_count": 2,
   "metadata": {},
   "outputs": [],
   "source": [
    "import bilidash"
   ]
  },
  {
   "cell_type": "code",
   "execution_count": 10,
   "metadata": {},
   "outputs": [
    {
     "data": {
      "text/plain": [
       "<module 'bilidash' from '/Users/leima/github/uupers/bilidash/server/bilidash/__init__.py'>"
      ]
     },
     "execution_count": 10,
     "metadata": {},
     "output_type": "execute_result"
    }
   ],
   "source": [
    "import importlib\n",
    "importlib.reload(bilidash)"
   ]
  },
  {
   "cell_type": "code",
   "execution_count": 14,
   "metadata": {},
   "outputs": [],
   "source": [
    "def current_dt_str():\n",
    "    \"\"\"\n",
    "    returns year-month-day-hour-min-sec\n",
    "    \"\"\"\n",
    "    dt_now = datetime.datetime.now()\n",
    "    # datetime.date(dt_now.year, dt_now.month, dt_now.day)\n",
    "    return str( dt_now.year ) + '-'+  str( dt_now.month ) + '-'+  str( dt_now.day ) + '-'+  str( dt_now.hour ) + '-'+  str( dt_now.minute ) + '-'+  str( dt_now.second )\n"
   ]
  },
  {
   "cell_type": "code",
   "execution_count": 15,
   "metadata": {},
   "outputs": [
    {
     "data": {
      "text/plain": [
       "'2018-5-2-23-36-45'"
      ]
     },
     "execution_count": 15,
     "metadata": {},
     "output_type": "execute_result"
    }
   ],
   "source": [
    "current_dt_str()"
   ]
  },
  {
   "cell_type": "code",
   "execution_count": 5,
   "metadata": {},
   "outputs": [],
   "source": [
    "baseurl='https://www.bilibili.com/'\n",
    "html = urlopen(baseurl).read().decode('utf-8')\n",
    "soup = BeautifulSoup(html, features='lxml')"
   ]
  },
  {
   "cell_type": "code",
   "execution_count": 6,
   "metadata": {},
   "outputs": [],
   "source": [
    "packdata = bilidash.groomjob(soup)"
   ]
  },
  {
   "cell_type": "code",
   "execution_count": 8,
   "metadata": {},
   "outputs": [],
   "source": [
    "bilidash.DTRecorder(dt_now, packdata, \"data.csv\" )"
   ]
  },
  {
   "cell_type": "code",
   "execution_count": null,
   "metadata": {},
   "outputs": [],
   "source": []
  },
  {
   "cell_type": "code",
   "execution_count": null,
   "metadata": {},
   "outputs": [],
   "source": []
  }
 ],
 "metadata": {
  "kernelspec": {
   "display_name": "Python 3",
   "language": "python",
   "name": "python3"
  },
  "language_info": {
   "codemirror_mode": {
    "name": "ipython",
    "version": 3
   },
   "file_extension": ".py",
   "mimetype": "text/x-python",
   "name": "python",
   "nbconvert_exporter": "python",
   "pygments_lexer": "ipython3",
   "version": "3.6.4"
  }
 },
 "nbformat": 4,
 "nbformat_minor": 2
}
