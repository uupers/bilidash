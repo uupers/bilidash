{
 "cells": [
  {
   "cell_type": "markdown",
   "metadata": {},
   "source": [
    "## Scraper"
   ]
  },
  {
   "cell_type": "markdown",
   "metadata": {},
   "source": [
    "Import modules"
   ]
  },
  {
   "cell_type": "code",
   "execution_count": 80,
   "metadata": {},
   "outputs": [],
   "source": [
    "from bs4 import BeautifulSoup\n",
    "from urllib.request import urlopen\n",
    "\n",
    "import datetime\n",
    "import sched, time\n",
    "import sys"
   ]
  },
  {
   "cell_type": "code",
   "execution_count": 96,
   "metadata": {},
   "outputs": [
    {
     "data": {
      "text/plain": [
       "20"
      ]
     },
     "execution_count": 96,
     "metadata": {},
     "output_type": "execute_result"
    }
   ],
   "source": [
    "datetime.datetime.now().hour"
   ]
  },
  {
   "cell_type": "markdown",
   "metadata": {},
   "source": [
    "Define the url to be scraped and load it"
   ]
  },
  {
   "cell_type": "code",
   "execution_count": 97,
   "metadata": {},
   "outputs": [],
   "source": [
    "url='https://www.bilibili.com/'\n",
    "html = urlopen(url).read().decode('utf-8')"
   ]
  },
  {
   "cell_type": "markdown",
   "metadata": {},
   "source": [
    "Define a list of all sections on front page"
   ]
  },
  {
   "cell_type": "code",
   "execution_count": 98,
   "metadata": {},
   "outputs": [],
   "source": [
    "secs = {'home-top':'groom-module home-card', 'home-pop':'home_popularize', 'live':'card-live-module'}"
   ]
  },
  {
   "cell_type": "markdown",
   "metadata": {},
   "source": [
    "Load source to Soup"
   ]
  },
  {
   "cell_type": "code",
   "execution_count": 99,
   "metadata": {},
   "outputs": [],
   "source": [
    "soup = BeautifulSoup(html, features='lxml')"
   ]
  },
  {
   "cell_type": "code",
   "execution_count": 100,
   "metadata": {},
   "outputs": [],
   "source": [
    "# print(soup)"
   ]
  },
  {
   "cell_type": "code",
   "execution_count": 101,
   "metadata": {},
   "outputs": [],
   "source": [
    "groom = soup.find_all('div',{'class': 'groom-module home-card'})"
   ]
  },
  {
   "cell_type": "code",
   "execution_count": 102,
   "metadata": {},
   "outputs": [
    {
     "data": {
      "text/plain": [
       "['22786099',\n",
       " '22791675',\n",
       " '22787517',\n",
       " '22785349',\n",
       " '22783783',\n",
       " '22761663',\n",
       " '22832807',\n",
       " '22812618']"
      ]
     },
     "execution_count": 102,
     "metadata": {},
     "output_type": "execute_result"
    }
   ],
   "source": [
    "[i.a['href'].split('av')[1][:-1] for i in groom]"
   ]
  },
  {
   "cell_type": "code",
   "execution_count": null,
   "metadata": {},
   "outputs": [],
   "source": []
  },
  {
   "cell_type": "markdown",
   "metadata": {},
   "source": [
    "## Write functions"
   ]
  },
  {
   "cell_type": "code",
   "execution_count": 4,
   "metadata": {},
   "outputs": [],
   "source": [
    "baseurl='https://www.bilibili.com/'\n",
    "\n",
    "def groomjob(url):\n",
    "    html = urlopen(url).read().decode('utf-8')\n",
    "\n",
    "    soup = BeautifulSoup(html, features='lxml')\n",
    "    groom = soup.find_all('div',{'class': 'groom-module home-card'})\n",
    "\n",
    "    aid = [i.a['href'].split('av')[1][:-1] for i in groom]\n",
    "    return aid\n",
    "    \n",
    "\n",
    "def recordgroom():\n",
    "    dt = str(datetime.datetime.now() )\n",
    "    with open(\"data.txt\", \"a\") as f:\n",
    "        f.write( dt + ',' )\n",
    "        [f.write(i+',') for i in aid[:-1]]\n",
    "        f.write(aid[-1])\n",
    "        f.write('\\n')\n",
    "\n",
    "\n",
    "hourflag = datetime.datetime.now().hour\n",
    "\n",
    "# while True:\n",
    "    \n",
    "#     if datetime.datetime.now().hour > hourflag:\n",
    "    \n",
    "#         print('Job Running')\n",
    "\n",
    "#         recordgroom()\n",
    "\n",
    "#         hourflag = datetime.datetime.now().hour\n",
    "    \n",
    "            \n"
   ]
  },
  {
   "cell_type": "markdown",
   "metadata": {},
   "source": [
    "## Test scheduler"
   ]
  },
  {
   "cell_type": "code",
   "execution_count": 1,
   "metadata": {},
   "outputs": [],
   "source": [
    "import sched, time\n",
    "s = sched.scheduler(time.time, time.sleep)"
   ]
  },
  {
   "cell_type": "code",
   "execution_count": 21,
   "metadata": {},
   "outputs": [],
   "source": [
    "def print_time(a='default'):\n",
    "    cur_time = time.time()\n",
    "    cur_time = time.strftime('%Y-%m-%d %H:%M:%S', time.localtime(cur_time))\n",
    "    print(\"From print_time\", cur_time, a)\n",
    "\n",
    "def print_some_times():\n",
    "    print_time()\n",
    "    s.enter(10, 1, print_time)\n",
    "    s.enter(5, 2, print_time, argument=('positional',))\n",
    "    s.enter(5, 1, print_time, kwargs={'a': 'keyword'})\n",
    "    s.run()\n",
    "    print(time.time())\n",
    "\n",
    "# print_some_times()\n",
    "\n"
   ]
  },
  {
   "cell_type": "code",
   "execution_count": 22,
   "metadata": {},
   "outputs": [
    {
     "data": {
      "text/plain": [
       "False"
      ]
     },
     "execution_count": 22,
     "metadata": {},
     "output_type": "execute_result"
    }
   ],
   "source": [
    "s.empty()"
   ]
  },
  {
   "cell_type": "code",
   "execution_count": 13,
   "metadata": {},
   "outputs": [],
   "source": [
    "dict = {}"
   ]
  },
  {
   "cell_type": "code",
   "execution_count": 78,
   "metadata": {},
   "outputs": [],
   "source": [
    "def cronsched(scheduler, interval, dic, iden, action, actionargs=()):\n",
    "\n",
    "    action(*actionargs)\n",
    "    ev = scheduler.enter(interval, 1, cronsched,\n",
    "                    (scheduler, interval, dic, iden, action, actionargs))\n",
    "    \n",
    "    dic[iden] = ev\n",
    "    \n",
    "def croncancel( scheduler, interval, eve ):\n",
    "    \n",
    "    scheduler.enter( interval, 1, scheduler.cancel, eve )"
   ]
  },
  {
   "cell_type": "code",
   "execution_count": 79,
   "metadata": {},
   "outputs": [
    {
     "name": "stdout",
     "output_type": "stream",
     "text": [
      "From print_time 2018-05-02 19:30:05 default\n"
     ]
    }
   ],
   "source": [
    "cronsched( s, 1, dict, 'new_vid', print_time )"
   ]
  },
  {
   "cell_type": "code",
   "execution_count": 80,
   "metadata": {},
   "outputs": [
    {
     "data": {
      "text/plain": [
       "{'new_vid': Event(time=1525311006.819536, priority=1, action=<function cronsched at 0x112f34048>, argument=(<sched.scheduler object at 0x112e6b390>, 1, {'new_vid': Event(time=1525311006.819536, priority=1, action=<function cronsched at 0x112f34048>, argument=(...), kwargs={})}, 'new_vid', <function print_time at 0x112e6f950>, ()), kwargs={})}"
      ]
     },
     "execution_count": 80,
     "metadata": {},
     "output_type": "execute_result"
    }
   ],
   "source": [
    "dict"
   ]
  },
  {
   "cell_type": "code",
   "execution_count": 81,
   "metadata": {},
   "outputs": [
    {
     "data": {
      "text/plain": [
       "[Event(time=1525311006.819536, priority=1, action=<function cronsched at 0x112f34048>, argument=(<sched.scheduler object at 0x112e6b390>, 1, {'new_vid': Event(time=1525311006.819536, priority=1, action=<function cronsched at 0x112f34048>, argument=(...), kwargs={})}, 'new_vid', <function print_time at 0x112e6f950>, ()), kwargs={})]"
      ]
     },
     "execution_count": 81,
     "metadata": {},
     "output_type": "execute_result"
    }
   ],
   "source": [
    "s.queue"
   ]
  },
  {
   "cell_type": "code",
   "execution_count": 86,
   "metadata": {},
   "outputs": [],
   "source": [
    "croncancel( s, 4, dict['new_vid'] )"
   ]
  },
  {
   "cell_type": "code",
   "execution_count": 87,
   "metadata": {},
   "outputs": [
    {
     "data": {
      "text/plain": [
       "False"
      ]
     },
     "execution_count": 87,
     "metadata": {},
     "output_type": "execute_result"
    }
   ],
   "source": [
    "s.empty()"
   ]
  },
  {
   "cell_type": "code",
   "execution_count": 92,
   "metadata": {},
   "outputs": [
    {
     "data": {
      "text/plain": [
       "[]"
      ]
     },
     "execution_count": 92,
     "metadata": {},
     "output_type": "execute_result"
    }
   ],
   "source": [
    "s.queue"
   ]
  },
  {
   "cell_type": "code",
   "execution_count": 93,
   "metadata": {},
   "outputs": [],
   "source": [
    "s.run()"
   ]
  },
  {
   "cell_type": "code",
   "execution_count": 104,
   "metadata": {},
   "outputs": [
    {
     "ename": "IndexError",
     "evalue": "list index out of range",
     "output_type": "error",
     "traceback": [
      "\u001b[0;31m---------------------------------------------------------------------------\u001b[0m",
      "\u001b[0;31mIndexError\u001b[0m                                Traceback (most recent call last)",
      "\u001b[0;32m<ipython-input-104-88a97f6fe5e6>\u001b[0m in \u001b[0;36m<module>\u001b[0;34m()\u001b[0m\n\u001b[0;32m----> 1\u001b[0;31m \u001b[0ms\u001b[0m\u001b[0;34m.\u001b[0m\u001b[0mcancel\u001b[0m\u001b[0;34m(\u001b[0m\u001b[0ms\u001b[0m\u001b[0;34m.\u001b[0m\u001b[0mqueue\u001b[0m\u001b[0;34m[\u001b[0m\u001b[0;36m0\u001b[0m\u001b[0;34m]\u001b[0m\u001b[0;34m)\u001b[0m\u001b[0;34m\u001b[0m\u001b[0m\n\u001b[0m",
      "\u001b[0;31mIndexError\u001b[0m: list index out of range"
     ]
    }
   ],
   "source": [
    "s.cancel(s.queue[0])"
   ]
  },
  {
   "cell_type": "markdown",
   "metadata": {},
   "source": [
    "## API"
   ]
  },
  {
   "cell_type": "code",
   "execution_count": 81,
   "metadata": {},
   "outputs": [],
   "source": [
    "import json\n",
    "import requests"
   ]
  },
  {
   "cell_type": "code",
   "execution_count": 82,
   "metadata": {},
   "outputs": [],
   "source": [
    "api_url_base = 'https://api.bilibili.com/x/web-interface/archive/stat?aid='"
   ]
  },
  {
   "cell_type": "code",
   "execution_count": 86,
   "metadata": {},
   "outputs": [],
   "source": [
    "rsp = requests.get(api_url_base + '22786099')"
   ]
  },
  {
   "cell_type": "code",
   "execution_count": 111,
   "metadata": {},
   "outputs": [
    {
     "data": {
      "text/plain": [
       "{'aid': 22786099,\n",
       " 'coin': 27945,\n",
       " 'copyright': 1,\n",
       " 'danmaku': 1768,\n",
       " 'favorite': 18372,\n",
       " 'his_rank': 11,\n",
       " 'no_reprint': 1,\n",
       " 'now_rank': 0,\n",
       " 'reply': 2787,\n",
       " 'share': 2342,\n",
       " 'view': 240198}"
      ]
     },
     "execution_count": 111,
     "metadata": {},
     "output_type": "execute_result"
    }
   ],
   "source": [
    "rsp.json()['data']"
   ]
  },
  {
   "cell_type": "code",
   "execution_count": 124,
   "metadata": {},
   "outputs": [],
   "source": [
    "mid = '299999920'\n",
    "# mid= '1492'\n",
    "mid_space_url_base = 'https://api.bilibili.com/x/web-interface/card?mid='+mid\n",
    "\n",
    "mid_vid_url_base = 'http://space.bilibili.com/ajax/member/getSubmitVideos?mid='+mid"
   ]
  },
  {
   "cell_type": "code",
   "execution_count": 125,
   "metadata": {},
   "outputs": [],
   "source": [
    "mid_space_rsp = requests.get( mid_space_url_base )\n",
    "mid_space_data = mid_space_rsp.json()['data']\n",
    "mid_vid_space_rsp = requests.get( mid_vid_url_base )\n",
    "mid_vid_data = mid_vid_space_rsp.json()['data']"
   ]
  },
  {
   "cell_type": "code",
   "execution_count": 127,
   "metadata": {},
   "outputs": [],
   "source": [
    "mid_vid_vlist = mid_vid_data['vlist']"
   ]
  },
  {
   "cell_type": "code",
   "execution_count": 132,
   "metadata": {},
   "outputs": [],
   "source": [
    "with open('params/uupers-vid-params.json', 'w') as outfile:\n",
    "    json.dump(mid_vid_vlist, outfile)"
   ]
  },
  {
   "cell_type": "code",
   "execution_count": 134,
   "metadata": {},
   "outputs": [],
   "source": [
    "json_data=open('params/uupers-vid-params.json').read()\n",
    "mid_vid_vlist_reloaded = json.loads(json_data)"
   ]
  },
  {
   "cell_type": "code",
   "execution_count": 129,
   "metadata": {},
   "outputs": [],
   "source": [
    "mid_space_keys = ['archive_count', 'follower'  ] # alternatively use ['card','fans'] instead of follower\n",
    "mid_vid_keys = ['count','vlist']"
   ]
  },
  {
   "cell_type": "code",
   "execution_count": 130,
   "metadata": {},
   "outputs": [],
   "source": [
    "track_vlist = [ vid['aid'] for vid in mid_vid_vlist ]"
   ]
  },
  {
   "cell_type": "code",
   "execution_count": 131,
   "metadata": {},
   "outputs": [
    {
     "data": {
      "text/plain": [
       "[22755224, 21768006]"
      ]
     },
     "execution_count": 131,
     "metadata": {},
     "output_type": "execute_result"
    }
   ],
   "source": [
    "track_vlist"
   ]
  },
  {
   "cell_type": "code",
   "execution_count": 139,
   "metadata": {},
   "outputs": [
    {
     "data": {
      "text/plain": [
       "{'archive_count': 2,\n",
       " 'article_count': 0,\n",
       " 'card': {'DisplayRank': '0',\n",
       "  'approve': False,\n",
       "  'article': 0,\n",
       "  'attention': 0,\n",
       "  'attentions': [],\n",
       "  'birthday': '',\n",
       "  'description': '',\n",
       "  'face': 'http://i1.hdslb.com/bfs/face/6c5c83d84f7619e7103f687857580f0f5af52ea0.jpg',\n",
       "  'fans': 6305,\n",
       "  'friend': 0,\n",
       "  'level_info': {'current_exp': 0,\n",
       "   'current_level': 5,\n",
       "   'current_min': 0,\n",
       "   'next_exp': 0},\n",
       "  'mid': '299999920',\n",
       "  'name': '不科学的UP组',\n",
       "  'nameplate': {'condition': '单个自制视频总播放数>=1万',\n",
       "   'image': 'http://i0.hdslb.com/bfs/face/2879cd5fb8518f7c6da75887994c1b2a7fe670bd.png',\n",
       "   'image_small': 'http://i1.hdslb.com/bfs/face/6707c120e00a3445933308fd9b7bd9fad99e9ec4.png',\n",
       "   'level': '普通勋章',\n",
       "   'name': '青铜殿堂',\n",
       "   'nid': 4},\n",
       "  'official_verify': {'desc': '', 'type': -1},\n",
       "  'pendant': {'expire': 0, 'image': '', 'name': '', 'pid': 0},\n",
       "  'place': '',\n",
       "  'rank': '10000',\n",
       "  'regtime': 0,\n",
       "  'sex': '保密',\n",
       "  'sign': '我们是「原创科技类视频团队」',\n",
       "  'spacesta': 0,\n",
       "  'vip': {'accessStatus': 0,\n",
       "   'dueRemark': '',\n",
       "   'vipStatus': 1,\n",
       "   'vipStatusWarn': '',\n",
       "   'vipType': 2}},\n",
       " 'follower': 6305,\n",
       " 'following': False}"
      ]
     },
     "execution_count": 139,
     "metadata": {},
     "output_type": "execute_result"
    }
   ],
   "source": [
    "mid_space_data"
   ]
  },
  {
   "cell_type": "markdown",
   "metadata": {},
   "source": [
    "## Test Package"
   ]
  },
  {
   "cell_type": "code",
   "execution_count": 2,
   "metadata": {},
   "outputs": [
    {
     "name": "stdout",
     "output_type": "stream",
     "text": [
      "bilidash\n",
      "data.csv\n",
      "explore.ipynb\n",
      "record-front-page.py\n",
      "requirements.txt\n",
      "setup.py\n",
      "test\n"
     ]
    }
   ],
   "source": [
    "%%bash\n",
    "ls ."
   ]
  },
  {
   "cell_type": "code",
   "execution_count": 64,
   "metadata": {},
   "outputs": [],
   "source": [
    "%%bash\n",
    "# pip install -e .\n",
    "# pip uninstall bilidash"
   ]
  },
  {
   "cell_type": "code",
   "execution_count": 65,
   "metadata": {},
   "outputs": [],
   "source": [
    "import bilidash\n",
    "import sched, time\n",
    "import os"
   ]
  },
  {
   "cell_type": "code",
   "execution_count": 66,
   "metadata": {},
   "outputs": [
    {
     "data": {
      "text/plain": [
       "<module 'bilidash' from '/Users/leima/github/uupers/bilidash/server/bilidash/__init__.py'>"
      ]
     },
     "execution_count": 66,
     "metadata": {},
     "output_type": "execute_result"
    }
   ],
   "source": [
    "import importlib\n",
    "importlib.reload(bilidash)"
   ]
  },
  {
   "cell_type": "code",
   "execution_count": 67,
   "metadata": {},
   "outputs": [],
   "source": [
    "dt_now = bilidash.current_dt_str()"
   ]
  },
  {
   "cell_type": "code",
   "execution_count": 68,
   "metadata": {},
   "outputs": [],
   "source": [
    "baseurl='https://www.bilibili.com/'\n",
    "html = urlopen(baseurl).read().decode('utf-8')\n",
    "soup = BeautifulSoup(html, features='lxml')"
   ]
  },
  {
   "cell_type": "code",
   "execution_count": 69,
   "metadata": {},
   "outputs": [],
   "source": [
    "datafile = dt_now + \"-data.csv\""
   ]
  },
  {
   "cell_type": "code",
   "execution_count": 70,
   "metadata": {},
   "outputs": [
    {
     "data": {
      "text/plain": [
       "'2018-5-4-17-32-21-data.csv'"
      ]
     },
     "execution_count": 70,
     "metadata": {},
     "output_type": "execute_result"
    }
   ],
   "source": [
    "datafile"
   ]
  },
  {
   "cell_type": "code",
   "execution_count": 71,
   "metadata": {},
   "outputs": [
    {
     "name": "stdout",
     "output_type": "stream",
     "text": [
      "Data Dumped\n"
     ]
    }
   ],
   "source": [
    "s = sched.scheduler(time.time, time.sleep)\n",
    "\n",
    "# Run program\n",
    "def groomjob():\n",
    "    \n",
    "    if os.path.exists(datafile):\n",
    "        append_write = 'a' # append if already exists\n",
    "    else:\n",
    "        append_write = 'w' # make a new file if not\n",
    "\n",
    "    \n",
    "    packdata = bilidash.groomaid(soup)\n",
    "    bilidash.DTRecorder( bilidash.current_dt_str(), packdata, datafile, append_write)\n",
    "    print('Data Dumped')\n",
    "\n",
    "bilidash.permcronsched( s, 20, groomjob )"
   ]
  },
  {
   "cell_type": "code",
   "execution_count": 49,
   "metadata": {},
   "outputs": [],
   "source": [
    "bilidash.DTRecorder(dt_now, bilidash.groomjob(soup), datafile, append_write)"
   ]
  },
  {
   "cell_type": "code",
   "execution_count": 72,
   "metadata": {},
   "outputs": [
    {
     "data": {
      "text/plain": [
       "[Event(time=1525476762.724101, priority=1, action=<function permcronsched at 0x115465620>, argument=(<sched.scheduler object at 0x115e2bef0>, 20, <function groomjob at 0x1154f0ea0>, ()), kwargs={})]"
      ]
     },
     "execution_count": 72,
     "metadata": {},
     "output_type": "execute_result"
    }
   ],
   "source": [
    "# s.cancel(s.queue[0])\n",
    "s.queue"
   ]
  },
  {
   "cell_type": "code",
   "execution_count": null,
   "metadata": {},
   "outputs": [],
   "source": []
  },
  {
   "cell_type": "code",
   "execution_count": 20,
   "metadata": {},
   "outputs": [],
   "source": [
    "s.run()"
   ]
  },
  {
   "cell_type": "markdown",
   "metadata": {},
   "source": [
    "### Test API"
   ]
  },
  {
   "cell_type": "code",
   "execution_count": 43,
   "metadata": {},
   "outputs": [],
   "source": [
    "groomdatafile = '2018-5-4-14-35-36-data.csv'\n",
    "av_array = os.popen(\"tail -n 1 %s\" % groomdatafile).read().rstrip('\\n').split(',')\n",
    "av_array = av_array[1:]\n",
    "api_url_base = 'https://api.bilibili.com/x/web-interface/archive/stat?aid='"
   ]
  },
  {
   "cell_type": "code",
   "execution_count": 49,
   "metadata": {},
   "outputs": [],
   "source": [
    "def scrape():\n",
    "    \n",
    "    for av in av_array:\n",
    "        api_vid = av\n",
    "        ret = bilidash.avapi(api_url_base+api_vid)\n",
    "        avtrack_file = api_vid + '.csv'\n",
    "        arr = [ ret['view'], ret['danmaku'], ret['reply'], ret['favorite'], ret['coin'], ret['share'], ret['now_rank'], ret['his_rank'], ret['no_reprint'], ret['copyright'] ]\n",
    "        arr = [str(i) for i in arr ]\n",
    "        \n",
    "        if os.path.exists(avtrack_file):\n",
    "            append_write = 'a' # append if already exists\n",
    "        else:\n",
    "            append_write = 'w' # make a new file if not\n",
    "        \n",
    "        bilidash.DTRecorder(bilidash.current_dt_str(), arr, avtrack_file, append_write)"
   ]
  },
  {
   "cell_type": "code",
   "execution_count": 50,
   "metadata": {},
   "outputs": [],
   "source": [
    "scrape()"
   ]
  },
  {
   "cell_type": "code",
   "execution_count": 52,
   "metadata": {},
   "outputs": [],
   "source": [
    "d = datetime.datetime.now() "
   ]
  },
  {
   "cell_type": "code",
   "execution_count": 53,
   "metadata": {},
   "outputs": [
    {
     "data": {
      "text/plain": [
       "datetime.datetime(2018, 5, 4, 17, 24, 31, 149702)"
      ]
     },
     "execution_count": 53,
     "metadata": {},
     "output_type": "execute_result"
    }
   ],
   "source": [
    "d"
   ]
  },
  {
   "cell_type": "code",
   "execution_count": 56,
   "metadata": {},
   "outputs": [],
   "source": [
    "from datetime import timedelta"
   ]
  },
  {
   "cell_type": "code",
   "execution_count": 62,
   "metadata": {},
   "outputs": [
    {
     "data": {
      "text/plain": [
       "False"
      ]
     },
     "execution_count": 62,
     "metadata": {},
     "output_type": "execute_result"
    }
   ],
   "source": [
    "datetime.datetime.now()  > d+timedelta(days=10)"
   ]
  },
  {
   "cell_type": "code",
   "execution_count": 78,
   "metadata": {},
   "outputs": [],
   "source": [
    "def test():\n",
    "    sys.exit"
   ]
  },
  {
   "cell_type": "code",
   "execution_count": 79,
   "metadata": {},
   "outputs": [],
   "source": [
    "test()"
   ]
  },
  {
   "cell_type": "code",
   "execution_count": null,
   "metadata": {},
   "outputs": [],
   "source": []
  }
 ],
 "metadata": {
  "kernelspec": {
   "display_name": "Python 3",
   "language": "python",
   "name": "python3"
  },
  "language_info": {
   "codemirror_mode": {
    "name": "ipython",
    "version": 3
   },
   "file_extension": ".py",
   "mimetype": "text/x-python",
   "name": "python",
   "nbconvert_exporter": "python",
   "pygments_lexer": "ipython3",
   "version": "3.6.4"
  }
 },
 "nbformat": 4,
 "nbformat_minor": 2
}
